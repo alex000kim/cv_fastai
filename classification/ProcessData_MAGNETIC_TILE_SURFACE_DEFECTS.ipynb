{
 "cells": [
  {
   "cell_type": "code",
   "execution_count": 1,
   "id": "356c557e",
   "metadata": {},
   "outputs": [],
   "source": [
    "import sys\n",
    "sys.path.append(\"..\")\n",
    "from utils.download_dataset import download_dataset, extract_zip"
   ]
  },
  {
   "cell_type": "code",
   "execution_count": 2,
   "id": "86bbab5d",
   "metadata": {},
   "outputs": [],
   "source": [
    "import numpy as np\n",
    "import PIL\n",
    "\n",
    "from fastai.vision.all import *\n",
    "from pathlib import Path\n",
    "from tqdm.auto import tqdm\n",
    "from shutil import copyfile, rmtree"
   ]
  },
  {
   "cell_type": "code",
   "execution_count": 3,
   "id": "28a91ae3",
   "metadata": {},
   "outputs": [
    {
     "name": "stdout",
     "output_type": "stream",
     "text": [
      "File exists: /home/ubuntu/github/cv_fastai/classification/data/MAGNETIC_TILE_SURFACE_DEFECTS.zip\n"
     ]
    },
    {
     "data": {
      "text/plain": [
       "Path('/home/ubuntu/github/cv_fastai/classification/data/MAGNETIC_TILE_SURFACE_DEFECTS.zip')"
      ]
     },
     "execution_count": 3,
     "metadata": {},
     "output_type": "execute_result"
    }
   ],
   "source": [
    "DATA_PATH = Path.cwd()/'data'\n",
    "if not DATA_PATH.exists():\n",
    "    DATA_PATH.mkdir(exist_ok=True)\n",
    "\n",
    "fpath = download_dataset(dataset_name='MAGNETIC_TILE_SURFACE_DEFECTS', dest_dir=DATA_PATH)\n",
    "fpath"
   ]
  },
  {
   "cell_type": "code",
   "execution_count": 4,
   "id": "553aafd9",
   "metadata": {},
   "outputs": [
    {
     "name": "stdout",
     "output_type": "stream",
     "text": [
      "Directory exists: /home/ubuntu/github/cv_fastai/classification/data/MAGNETIC_TILE_SURFACE_DEFECTS\n"
     ]
    },
    {
     "data": {
      "text/plain": [
       "Path('/home/ubuntu/github/cv_fastai/classification/data/MAGNETIC_TILE_SURFACE_DEFECTS')"
      ]
     },
     "execution_count": 4,
     "metadata": {},
     "output_type": "execute_result"
    }
   ],
   "source": [
    "dir_path = extract_zip(fpath)\n",
    "dir_path"
   ]
  },
  {
   "cell_type": "code",
   "execution_count": 5,
   "id": "958ec0db",
   "metadata": {},
   "outputs": [
    {
     "data": {
      "text/plain": [
       "['MT_Uneven', 'MT_Fray', 'MT_Free', 'MT_Blowhole', 'MT_Crack', 'MT_Break']"
      ]
     },
     "execution_count": 5,
     "metadata": {},
     "output_type": "execute_result"
    }
   ],
   "source": [
    "classes = []\n",
    "for ii in (dir_path).ls():\n",
    "    if ii.is_dir():\n",
    "        classes.append(ii.stem)\n",
    "classes"
   ]
  },
  {
   "cell_type": "code",
   "execution_count": 7,
   "id": "0276b44a",
   "metadata": {},
   "outputs": [
    {
     "data": {
      "text/plain": [
       "1344"
      ]
     },
     "execution_count": 7,
     "metadata": {},
     "output_type": "execute_result"
    }
   ],
   "source": [
    "img_fpaths = get_files(dir_path, extensions='.jpg')\n",
    "len(img_fpaths)"
   ]
  },
  {
   "cell_type": "code",
   "execution_count": 8,
   "id": "b35363f7",
   "metadata": {},
   "outputs": [],
   "source": [
    "path_images = dir_path/'images'\n",
    "if not path_images.exists():\n",
    "    path_images.mkdir(exist_ok=True)"
   ]
  },
  {
   "cell_type": "code",
   "execution_count": 9,
   "id": "eb5d259e",
   "metadata": {},
   "outputs": [],
   "source": [
    "for c in classes:\n",
    "    path_class = path_images/c\n",
    "    if not path_class.exists():\n",
    "        path_class.mkdir(exist_ok=True)"
   ]
  },
  {
   "cell_type": "code",
   "execution_count": 12,
   "id": "889d881f",
   "metadata": {},
   "outputs": [
    {
     "data": {
      "application/vnd.jupyter.widget-view+json": {
       "model_id": "8bde72c05ed2429bad1d41db7a7a3659",
       "version_major": 2,
       "version_minor": 0
      },
      "text/plain": [
       "  0%|          | 0/1344 [00:00<?, ?it/s]"
      ]
     },
     "metadata": {},
     "output_type": "display_data"
    }
   ],
   "source": [
    "for img_fpath in tqdm(img_fpaths):\n",
    "    copyfile(img_fpath, path_images/img_fpath.parent.parent.stem/img_fpath.name)"
   ]
  },
  {
   "cell_type": "code",
   "execution_count": 13,
   "id": "41e9b3cb",
   "metadata": {},
   "outputs": [],
   "source": [
    "new_img_fpaths = get_files(path_images)\n",
    "assert len(new_img_fpaths) == len(img_fpaths)"
   ]
  },
  {
   "cell_type": "code",
   "execution_count": null,
   "id": "54d8093e",
   "metadata": {},
   "outputs": [],
   "source": []
  }
 ],
 "metadata": {
  "kernelspec": {
   "display_name": "Python (cv_fastai)",
   "language": "python",
   "name": "cv_fastai"
  },
  "language_info": {
   "codemirror_mode": {
    "name": "ipython",
    "version": 3
   },
   "file_extension": ".py",
   "mimetype": "text/x-python",
   "name": "python",
   "nbconvert_exporter": "python",
   "pygments_lexer": "ipython3",
   "version": "3.8.10"
  }
 },
 "nbformat": 4,
 "nbformat_minor": 5
}
