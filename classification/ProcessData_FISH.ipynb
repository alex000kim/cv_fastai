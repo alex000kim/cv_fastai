{
 "cells": [
  {
   "cell_type": "code",
   "execution_count": 1,
   "id": "356c557e",
   "metadata": {},
   "outputs": [],
   "source": [
    "import sys\n",
    "sys.path.append(\"..\")\n",
    "from utils.download_dataset import download_dataset, extract_zip"
   ]
  },
  {
   "cell_type": "code",
   "execution_count": 2,
   "id": "86bbab5d",
   "metadata": {},
   "outputs": [],
   "source": [
    "import numpy as np\n",
    "import PIL\n",
    "\n",
    "from fastai.vision.all import *\n",
    "from pathlib import Path\n",
    "from tqdm.auto import tqdm\n",
    "from shutil import copyfile, rmtree"
   ]
  },
  {
   "cell_type": "code",
   "execution_count": 3,
   "id": "28a91ae3",
   "metadata": {},
   "outputs": [
    {
     "name": "stdout",
     "output_type": "stream",
     "text": [
      "File exists: /home/ubuntu/github/cv_fastai/classification/data/FISH.zip\n"
     ]
    },
    {
     "data": {
      "text/plain": [
       "Path('/home/ubuntu/github/cv_fastai/classification/data/FISH.zip')"
      ]
     },
     "execution_count": 3,
     "metadata": {},
     "output_type": "execute_result"
    }
   ],
   "source": [
    "DATA_PATH = Path.cwd()/'data'\n",
    "if not DATA_PATH.exists():\n",
    "    DATA_PATH.mkdir(exist_ok=True)\n",
    "\n",
    "fpath = download_dataset(dataset_name='FISH', dest_dir=DATA_PATH)\n",
    "fpath"
   ]
  },
  {
   "cell_type": "code",
   "execution_count": 4,
   "id": "553aafd9",
   "metadata": {},
   "outputs": [
    {
     "name": "stdout",
     "output_type": "stream",
     "text": [
      "Directory exists: /home/ubuntu/github/cv_fastai/classification/data/FISH\n"
     ]
    },
    {
     "data": {
      "text/plain": [
       "Path('/home/ubuntu/github/cv_fastai/classification/data/FISH')"
      ]
     },
     "execution_count": 4,
     "metadata": {},
     "output_type": "execute_result"
    }
   ],
   "source": [
    "dir_path = extract_zip(fpath)\n",
    "dir_path"
   ]
  },
  {
   "cell_type": "code",
   "execution_count": 5,
   "id": "958ec0db",
   "metadata": {},
   "outputs": [
    {
     "data": {
      "text/plain": [
       "['Sea Bass',\n",
       " 'Trout',\n",
       " 'Hourse Mackerel',\n",
       " 'Shrimp',\n",
       " 'Red Mullet',\n",
       " 'Black Sea Sprat',\n",
       " 'Red Sea Bream',\n",
       " 'Striped Red Mullet',\n",
       " 'Gilt-Head Bream']"
      ]
     },
     "execution_count": 5,
     "metadata": {},
     "output_type": "execute_result"
    }
   ],
   "source": [
    "fish_classes = []\n",
    "for ii in (dir_path/'Fish_Dataset').ls():\n",
    "    if ii.is_dir():\n",
    "        fish_classes.append(ii.stem)\n",
    "fish_classes"
   ]
  },
  {
   "cell_type": "code",
   "execution_count": 6,
   "id": "0276b44a",
   "metadata": {},
   "outputs": [
    {
     "data": {
      "text/plain": [
       "9000"
      ]
     },
     "execution_count": 6,
     "metadata": {},
     "output_type": "execute_result"
    }
   ],
   "source": [
    "fish_paths = [get_files(dir_path/'Fish_Dataset'/c/c, extensions='.png') for c in fish_classes] \n",
    "img_fpaths = [img_path for fish_path in fish_paths for img_path in fish_path]\n",
    "len(img_fpaths)"
   ]
  },
  {
   "cell_type": "code",
   "execution_count": 7,
   "id": "b35363f7",
   "metadata": {},
   "outputs": [],
   "source": [
    "path_images = dir_path/'images'\n",
    "if not path_images.exists():\n",
    "    path_images.mkdir(exist_ok=True)"
   ]
  },
  {
   "cell_type": "code",
   "execution_count": 8,
   "id": "eb5d259e",
   "metadata": {},
   "outputs": [],
   "source": [
    "for c in fish_classes:\n",
    "    path_class = path_images/c\n",
    "    if not path_class.exists():\n",
    "        path_class.mkdir(exist_ok=True)"
   ]
  },
  {
   "cell_type": "code",
   "execution_count": 9,
   "id": "889d881f",
   "metadata": {},
   "outputs": [
    {
     "data": {
      "application/vnd.jupyter.widget-view+json": {
       "model_id": "905c01a1ac9f4ad2b42c20d6c83288c3",
       "version_major": 2,
       "version_minor": 0
      },
      "text/plain": [
       "  0%|          | 0/9000 [00:00<?, ?it/s]"
      ]
     },
     "metadata": {},
     "output_type": "display_data"
    }
   ],
   "source": [
    "for img_fpath in tqdm(img_fpaths):\n",
    "    copyfile(img_fpath, path_images/img_fpath.parent.stem/img_fpath.name)"
   ]
  },
  {
   "cell_type": "code",
   "execution_count": 10,
   "id": "41e9b3cb",
   "metadata": {},
   "outputs": [],
   "source": [
    "new_img_fpaths = get_files(path_images)\n",
    "assert len(new_img_fpaths) == len(img_fpaths)"
   ]
  },
  {
   "cell_type": "code",
   "execution_count": null,
   "id": "5274de25",
   "metadata": {},
   "outputs": [],
   "source": []
  }
 ],
 "metadata": {
  "kernelspec": {
   "display_name": "Python (cv_fastai)",
   "language": "python",
   "name": "cv_fastai"
  },
  "language_info": {
   "codemirror_mode": {
    "name": "ipython",
    "version": 3
   },
   "file_extension": ".py",
   "mimetype": "text/x-python",
   "name": "python",
   "nbconvert_exporter": "python",
   "pygments_lexer": "ipython3",
   "version": "3.8.10"
  }
 },
 "nbformat": 4,
 "nbformat_minor": 5
}
