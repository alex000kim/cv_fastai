{
 "cells": [
  {
   "cell_type": "code",
   "execution_count": 1,
   "id": "356c557e",
   "metadata": {},
   "outputs": [],
   "source": [
    "import sys\n",
    "sys.path.append(\"..\")\n",
    "from utils.download_dataset import download_dataset, extract_zip"
   ]
  },
  {
   "cell_type": "code",
   "execution_count": 2,
   "id": "86bbab5d",
   "metadata": {},
   "outputs": [],
   "source": [
    "import numpy as np\n",
    "import PIL\n",
    "\n",
    "from fastai.vision.all import *\n",
    "from pathlib import Path\n",
    "from tqdm.auto import tqdm\n",
    "from shutil import copyfile, rmtree"
   ]
  },
  {
   "cell_type": "code",
   "execution_count": 3,
   "id": "28a91ae3",
   "metadata": {},
   "outputs": [
    {
     "name": "stdout",
     "output_type": "stream",
     "text": [
      "File exists: /home/ubuntu/github/cv_fastai/segmentation/data/MAGNETIC_TILE_SURFACE_DEFECTS.zip\n"
     ]
    },
    {
     "data": {
      "text/plain": [
       "Path('/home/ubuntu/github/cv_fastai/segmentation/data/MAGNETIC_TILE_SURFACE_DEFECTS.zip')"
      ]
     },
     "execution_count": 3,
     "metadata": {},
     "output_type": "execute_result"
    }
   ],
   "source": [
    "DATA_PATH = Path.cwd()/'data'\n",
    "if not DATA_PATH.exists():\n",
    "    DATA_PATH.mkdir(exist_ok=True)\n",
    "\n",
    "fpath = download_dataset(dataset_name='MAGNETIC_TILE_SURFACE_DEFECTS', dest_dir=DATA_PATH)\n",
    "fpath"
   ]
  },
  {
   "cell_type": "code",
   "execution_count": 4,
   "id": "553aafd9",
   "metadata": {},
   "outputs": [
    {
     "name": "stdout",
     "output_type": "stream",
     "text": [
      "Directory exists: /home/ubuntu/github/cv_fastai/segmentation/data/MAGNETIC_TILE_SURFACE_DEFECTS\n"
     ]
    },
    {
     "data": {
      "text/plain": [
       "Path('/home/ubuntu/github/cv_fastai/segmentation/data/MAGNETIC_TILE_SURFACE_DEFECTS')"
      ]
     },
     "execution_count": 4,
     "metadata": {},
     "output_type": "execute_result"
    }
   ],
   "source": [
    "dir_path = extract_zip(fpath)\n",
    "dir_path"
   ]
  },
  {
   "cell_type": "code",
   "execution_count": 5,
   "id": "11607ebf",
   "metadata": {},
   "outputs": [
    {
     "data": {
      "text/plain": [
       "(#7) [Path('/home/ubuntu/github/cv_fastai/segmentation/data/MAGNETIC_TILE_SURFACE_DEFECTS/MT_Uneven'),Path('/home/ubuntu/github/cv_fastai/segmentation/data/MAGNETIC_TILE_SURFACE_DEFECTS/MT_Fray'),Path('/home/ubuntu/github/cv_fastai/segmentation/data/MAGNETIC_TILE_SURFACE_DEFECTS/MT_Blowhole'),Path('/home/ubuntu/github/cv_fastai/segmentation/data/MAGNETIC_TILE_SURFACE_DEFECTS/images'),Path('/home/ubuntu/github/cv_fastai/segmentation/data/MAGNETIC_TILE_SURFACE_DEFECTS/MT_Crack'),Path('/home/ubuntu/github/cv_fastai/segmentation/data/MAGNETIC_TILE_SURFACE_DEFECTS/labels'),Path('/home/ubuntu/github/cv_fastai/segmentation/data/MAGNETIC_TILE_SURFACE_DEFECTS/MT_Break')]"
      ]
     },
     "execution_count": 5,
     "metadata": {},
     "output_type": "execute_result"
    }
   ],
   "source": [
    "dir_path.ls()"
   ]
  },
  {
   "cell_type": "code",
   "execution_count": 6,
   "id": "643d5851",
   "metadata": {},
   "outputs": [],
   "source": [
    "if (dir_path/'MT_Free').exists():\n",
    "    rmtree(dir_path/'MT_Free')"
   ]
  },
  {
   "cell_type": "code",
   "execution_count": 7,
   "id": "958ec0db",
   "metadata": {},
   "outputs": [
    {
     "data": {
      "text/plain": [
       "['MT_Uneven', 'MT_Fray', 'MT_Blowhole', 'MT_Crack', 'MT_Break']"
      ]
     },
     "execution_count": 7,
     "metadata": {},
     "output_type": "execute_result"
    }
   ],
   "source": [
    "classes = []\n",
    "for ii in (dir_path).ls():\n",
    "    if ii.is_dir() and ii.stem.startswith('MT_'):\n",
    "        classes.append(ii.stem)\n",
    "classes"
   ]
  },
  {
   "cell_type": "code",
   "execution_count": 8,
   "id": "8b3ef0a1",
   "metadata": {},
   "outputs": [
    {
     "data": {
      "text/plain": [
       "{'MT_Uneven': 1, 'MT_Fray': 2, 'MT_Blowhole': 3, 'MT_Crack': 4, 'MT_Break': 5}"
      ]
     },
     "execution_count": 8,
     "metadata": {},
     "output_type": "execute_result"
    }
   ],
   "source": [
    "classes_dict = {c:i+1 for i, c in enumerate(classes)}\n",
    "classes_dict"
   ]
  },
  {
   "cell_type": "code",
   "execution_count": 9,
   "id": "0276b44a",
   "metadata": {},
   "outputs": [
    {
     "data": {
      "text/plain": [
       "392"
      ]
     },
     "execution_count": 9,
     "metadata": {},
     "output_type": "execute_result"
    }
   ],
   "source": [
    "img_fpaths = [get_files(dir_path/c, extensions='.jpg') for c in classes]\n",
    "img_fpaths = [ii for sublist in img_fpaths for ii in sublist]\n",
    "len(img_fpaths)"
   ]
  },
  {
   "cell_type": "code",
   "execution_count": 10,
   "id": "9828fd68",
   "metadata": {},
   "outputs": [
    {
     "data": {
      "text/plain": [
       "392"
      ]
     },
     "execution_count": 10,
     "metadata": {},
     "output_type": "execute_result"
    }
   ],
   "source": [
    "msk_fpaths = [get_files(dir_path/c, extensions='.png') for c in classes]\n",
    "msk_fpaths = [ii for sublist in msk_fpaths for ii in sublist]\n",
    "len(msk_fpaths)"
   ]
  },
  {
   "cell_type": "code",
   "execution_count": 11,
   "id": "17611c75",
   "metadata": {},
   "outputs": [],
   "source": [
    "assert len(img_fpaths) == len(msk_fpaths)"
   ]
  },
  {
   "cell_type": "code",
   "execution_count": 12,
   "id": "b35363f7",
   "metadata": {},
   "outputs": [],
   "source": [
    "path_images = dir_path/'images'\n",
    "if not path_images.exists():\n",
    "    path_images.mkdir(exist_ok=True)\n",
    "    \n",
    "path_labels = dir_path/'labels'\n",
    "if not path_labels.exists():\n",
    "    path_labels.mkdir(exist_ok=True)"
   ]
  },
  {
   "cell_type": "code",
   "execution_count": 13,
   "id": "34b1614f",
   "metadata": {},
   "outputs": [
    {
     "data": {
      "application/vnd.jupyter.widget-view+json": {
       "model_id": "a84b2c9ede69457ca3ad916725221d39",
       "version_major": 2,
       "version_minor": 0
      },
      "text/plain": [
       "  0%|          | 0/392 [00:00<?, ?it/s]"
      ]
     },
     "metadata": {},
     "output_type": "display_data"
    }
   ],
   "source": [
    "for msk_path in tqdm(msk_fpaths):\n",
    "    c = msk_path.parent.parent.stem\n",
    "    i = classes_dict[c]\n",
    "    msk = np.array(Image.open(msk_path))\n",
    "    msk[msk>0] = i\n",
    "    Image.fromarray(msk).save(path_labels/msk_path.name)"
   ]
  },
  {
   "cell_type": "code",
   "execution_count": 14,
   "id": "889d881f",
   "metadata": {},
   "outputs": [
    {
     "data": {
      "application/vnd.jupyter.widget-view+json": {
       "model_id": "90d9496425bd4349a9a6fba9fc4c227b",
       "version_major": 2,
       "version_minor": 0
      },
      "text/plain": [
       "  0%|          | 0/392 [00:00<?, ?it/s]"
      ]
     },
     "metadata": {},
     "output_type": "display_data"
    }
   ],
   "source": [
    "for img_fpath in tqdm(img_fpaths):\n",
    "    copyfile(img_fpath, path_images/img_fpath.name)"
   ]
  },
  {
   "cell_type": "code",
   "execution_count": 15,
   "id": "41e9b3cb",
   "metadata": {},
   "outputs": [],
   "source": [
    "new_img_fpaths = get_files(path_images)\n",
    "assert len(new_img_fpaths) == len(img_fpaths)"
   ]
  },
  {
   "cell_type": "code",
   "execution_count": null,
   "id": "54d8093e",
   "metadata": {},
   "outputs": [],
   "source": []
  }
 ],
 "metadata": {
  "kernelspec": {
   "display_name": "Python (cv_fastai)",
   "language": "python",
   "name": "cv_fastai"
  },
  "language_info": {
   "codemirror_mode": {
    "name": "ipython",
    "version": 3
   },
   "file_extension": ".py",
   "mimetype": "text/x-python",
   "name": "python",
   "nbconvert_exporter": "python",
   "pygments_lexer": "ipython3",
   "version": "3.8.10"
  }
 },
 "nbformat": 4,
 "nbformat_minor": 5
}
