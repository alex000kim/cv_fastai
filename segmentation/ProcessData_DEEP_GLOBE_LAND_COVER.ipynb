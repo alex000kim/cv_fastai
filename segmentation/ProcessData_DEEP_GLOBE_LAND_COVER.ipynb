{
 "cells": [
  {
   "cell_type": "code",
   "execution_count": 1,
   "id": "356c557e",
   "metadata": {},
   "outputs": [],
   "source": [
    "import sys\n",
    "sys.path.append(\"..\")\n",
    "from utils.download_dataset import download_dataset, extract_zip"
   ]
  },
  {
   "cell_type": "code",
   "execution_count": 2,
   "id": "86bbab5d",
   "metadata": {},
   "outputs": [],
   "source": [
    "import numpy as np\n",
    "import PIL\n",
    "\n",
    "from fastai.vision.all import *\n",
    "from pathlib import Path\n",
    "from tqdm.auto import tqdm\n",
    "from shutil import copyfile, rmtree"
   ]
  },
  {
   "cell_type": "code",
   "execution_count": 3,
   "id": "28a91ae3",
   "metadata": {},
   "outputs": [
    {
     "name": "stdout",
     "output_type": "stream",
     "text": [
      "File exists: /home/ubuntu/github/cv_fastai/segmentation/data/DEEP_GLOBE_LAND_COVER.zip\n"
     ]
    },
    {
     "data": {
      "text/plain": [
       "Path('/home/ubuntu/github/cv_fastai/segmentation/data/DEEP_GLOBE_LAND_COVER.zip')"
      ]
     },
     "execution_count": 3,
     "metadata": {},
     "output_type": "execute_result"
    }
   ],
   "source": [
    "DATA_PATH = Path.cwd()/'data'\n",
    "if not DATA_PATH.exists():\n",
    "    DATA_PATH.mkdir(exist_ok=True)\n",
    "\n",
    "fpath = download_dataset(dataset_name='DEEP_GLOBE_LAND_COVER', dest_dir=DATA_PATH)\n",
    "fpath"
   ]
  },
  {
   "cell_type": "code",
   "execution_count": 4,
   "id": "b2bb9e93",
   "metadata": {},
   "outputs": [
    {
     "name": "stdout",
     "output_type": "stream",
     "text": [
      "Directory exists: /home/ubuntu/github/cv_fastai/segmentation/data/DEEP_GLOBE_LAND_COVER\n"
     ]
    },
    {
     "data": {
      "text/plain": [
       "Path('/home/ubuntu/github/cv_fastai/segmentation/data/DEEP_GLOBE_LAND_COVER')"
      ]
     },
     "execution_count": 4,
     "metadata": {},
     "output_type": "execute_result"
    }
   ],
   "source": [
    "dir_path = extract_zip(fpath)\n",
    "dir_path"
   ]
  },
  {
   "cell_type": "code",
   "execution_count": 5,
   "id": "43852f4d",
   "metadata": {},
   "outputs": [
    {
     "data": {
      "text/html": [
       "<div>\n",
       "<style scoped>\n",
       "    .dataframe tbody tr th:only-of-type {\n",
       "        vertical-align: middle;\n",
       "    }\n",
       "\n",
       "    .dataframe tbody tr th {\n",
       "        vertical-align: top;\n",
       "    }\n",
       "\n",
       "    .dataframe thead th {\n",
       "        text-align: right;\n",
       "    }\n",
       "</style>\n",
       "<table border=\"1\" class=\"dataframe\">\n",
       "  <thead>\n",
       "    <tr style=\"text-align: right;\">\n",
       "      <th></th>\n",
       "      <th>name</th>\n",
       "      <th>r</th>\n",
       "      <th>g</th>\n",
       "      <th>b</th>\n",
       "      <th>pixel_value</th>\n",
       "      <th>class_name</th>\n",
       "      <th>rgb</th>\n",
       "    </tr>\n",
       "  </thead>\n",
       "  <tbody>\n",
       "    <tr>\n",
       "      <th>0</th>\n",
       "      <td>urban_land</td>\n",
       "      <td>0</td>\n",
       "      <td>255</td>\n",
       "      <td>255</td>\n",
       "      <td>179</td>\n",
       "      <td>0</td>\n",
       "      <td>[0, 255, 255]</td>\n",
       "    </tr>\n",
       "    <tr>\n",
       "      <th>1</th>\n",
       "      <td>agriculture_land</td>\n",
       "      <td>255</td>\n",
       "      <td>255</td>\n",
       "      <td>0</td>\n",
       "      <td>226</td>\n",
       "      <td>1</td>\n",
       "      <td>[255, 255, 0]</td>\n",
       "    </tr>\n",
       "    <tr>\n",
       "      <th>2</th>\n",
       "      <td>rangeland</td>\n",
       "      <td>255</td>\n",
       "      <td>0</td>\n",
       "      <td>255</td>\n",
       "      <td>105</td>\n",
       "      <td>2</td>\n",
       "      <td>[255, 0, 255]</td>\n",
       "    </tr>\n",
       "    <tr>\n",
       "      <th>3</th>\n",
       "      <td>forest_land</td>\n",
       "      <td>0</td>\n",
       "      <td>255</td>\n",
       "      <td>0</td>\n",
       "      <td>150</td>\n",
       "      <td>3</td>\n",
       "      <td>[0, 255, 0]</td>\n",
       "    </tr>\n",
       "    <tr>\n",
       "      <th>4</th>\n",
       "      <td>water</td>\n",
       "      <td>0</td>\n",
       "      <td>0</td>\n",
       "      <td>255</td>\n",
       "      <td>29</td>\n",
       "      <td>4</td>\n",
       "      <td>[0, 0, 255]</td>\n",
       "    </tr>\n",
       "    <tr>\n",
       "      <th>5</th>\n",
       "      <td>barren_land</td>\n",
       "      <td>255</td>\n",
       "      <td>255</td>\n",
       "      <td>255</td>\n",
       "      <td>255</td>\n",
       "      <td>5</td>\n",
       "      <td>[255, 255, 255]</td>\n",
       "    </tr>\n",
       "    <tr>\n",
       "      <th>6</th>\n",
       "      <td>unknown</td>\n",
       "      <td>0</td>\n",
       "      <td>0</td>\n",
       "      <td>0</td>\n",
       "      <td>0</td>\n",
       "      <td>6</td>\n",
       "      <td>[0, 0, 0]</td>\n",
       "    </tr>\n",
       "  </tbody>\n",
       "</table>\n",
       "</div>"
      ],
      "text/plain": [
       "               name    r    g    b  pixel_value  class_name              rgb\n",
       "0        urban_land    0  255  255          179           0    [0, 255, 255]\n",
       "1  agriculture_land  255  255    0          226           1    [255, 255, 0]\n",
       "2         rangeland  255    0  255          105           2    [255, 0, 255]\n",
       "3       forest_land    0  255    0          150           3      [0, 255, 0]\n",
       "4             water    0    0  255           29           4      [0, 0, 255]\n",
       "5       barren_land  255  255  255          255           5  [255, 255, 255]\n",
       "6           unknown    0    0    0            0           6        [0, 0, 0]"
      ]
     },
     "execution_count": 5,
     "metadata": {},
     "output_type": "execute_result"
    }
   ],
   "source": [
    "df = pd.read_csv(dir_path/'class_dict.csv')\n",
    "df['pixel_value'] =  round(df['r'] * 299/1000 + df['g'] * 587/1000 + df['b'] * 114/1000,0).astype(int, copy=False)\n",
    "df['class_name'] = np.arange(len(df))\n",
    "df['rgb'] = df.apply(lambda row: [row['r'], row['g'], row['b']], axis=1)\n",
    "df"
   ]
  },
  {
   "cell_type": "code",
   "execution_count": 6,
   "id": "9395a5ea",
   "metadata": {},
   "outputs": [
    {
     "data": {
      "text/plain": [
       "array(['urban_land', 'agriculture_land', 'rangeland', 'forest_land',\n",
       "       'water', 'barren_land', 'unknown'], dtype=object)"
      ]
     },
     "execution_count": 6,
     "metadata": {},
     "output_type": "execute_result"
    }
   ],
   "source": [
    "codes = df['name'].values\n",
    "codes"
   ]
  },
  {
   "cell_type": "code",
   "execution_count": 7,
   "id": "9ece2f02",
   "metadata": {},
   "outputs": [
    {
     "data": {
      "text/plain": [
       "{179: 0, 226: 1, 105: 2, 150: 3, 29: 4, 255: 5, 0: 6}"
      ]
     },
     "execution_count": 7,
     "metadata": {},
     "output_type": "execute_result"
    }
   ],
   "source": [
    "p2d = dict(df[['pixel_value','class_name']].values)\n",
    "p2d"
   ]
  },
  {
   "cell_type": "code",
   "execution_count": 8,
   "id": "b89beb4f",
   "metadata": {},
   "outputs": [
    {
     "data": {
      "text/plain": [
       "{0: [0, 255, 255],\n",
       " 1: [255, 255, 0],\n",
       " 2: [255, 0, 255],\n",
       " 3: [0, 255, 0],\n",
       " 4: [0, 0, 255],\n",
       " 5: [255, 255, 255],\n",
       " 6: [0, 0, 0]}"
      ]
     },
     "execution_count": 8,
     "metadata": {},
     "output_type": "execute_result"
    }
   ],
   "source": [
    "c2rgb = dict(df[['class_name','rgb']].values)\n",
    "c2rgb"
   ]
  },
  {
   "cell_type": "code",
   "execution_count": 9,
   "id": "86e4712b",
   "metadata": {},
   "outputs": [
    {
     "data": {
      "text/plain": [
       "(#803) [Path('/home/ubuntu/github/cv_fastai/segmentation/data/DEEP_GLOBE_LAND_COVER/DEEP_GLOBE_LAND_COVER/860326_sat.jpg'),Path('/home/ubuntu/github/cv_fastai/segmentation/data/DEEP_GLOBE_LAND_COVER/DEEP_GLOBE_LAND_COVER/989499_sat.jpg'),Path('/home/ubuntu/github/cv_fastai/segmentation/data/DEEP_GLOBE_LAND_COVER/DEEP_GLOBE_LAND_COVER/733758_sat.jpg'),Path('/home/ubuntu/github/cv_fastai/segmentation/data/DEEP_GLOBE_LAND_COVER/DEEP_GLOBE_LAND_COVER/432089_sat.jpg'),Path('/home/ubuntu/github/cv_fastai/segmentation/data/DEEP_GLOBE_LAND_COVER/DEEP_GLOBE_LAND_COVER/565914_sat.jpg'),Path('/home/ubuntu/github/cv_fastai/segmentation/data/DEEP_GLOBE_LAND_COVER/DEEP_GLOBE_LAND_COVER/119012_sat.jpg'),Path('/home/ubuntu/github/cv_fastai/segmentation/data/DEEP_GLOBE_LAND_COVER/DEEP_GLOBE_LAND_COVER/335737_sat.jpg'),Path('/home/ubuntu/github/cv_fastai/segmentation/data/DEEP_GLOBE_LAND_COVER/DEEP_GLOBE_LAND_COVER/209787_sat.jpg'),Path('/home/ubuntu/github/cv_fastai/segmentation/data/DEEP_GLOBE_LAND_COVER/DEEP_GLOBE_LAND_COVER/923618_sat.jpg'),Path('/home/ubuntu/github/cv_fastai/segmentation/data/DEEP_GLOBE_LAND_COVER/DEEP_GLOBE_LAND_COVER/36183_sat.jpg')...]"
      ]
     },
     "execution_count": 9,
     "metadata": {},
     "output_type": "execute_result"
    }
   ],
   "source": [
    "img_fpaths = get_files(dir_path/'DEEP_GLOBE_LAND_COVER', extensions='.jpg')\n",
    "img_fpaths"
   ]
  },
  {
   "cell_type": "code",
   "execution_count": 10,
   "id": "d65fac53",
   "metadata": {},
   "outputs": [
    {
     "data": {
      "text/plain": [
       "Path('/home/ubuntu/github/cv_fastai/segmentation/data/DEEP_GLOBE_LAND_COVER/DEEP_GLOBE_LAND_COVER/860326_mask.png')"
      ]
     },
     "execution_count": 10,
     "metadata": {},
     "output_type": "execute_result"
    }
   ],
   "source": [
    "def get_mask_fpath(fpath): \n",
    "    return Path(str(fpath).replace('sat.jpg', 'mask.png'))\n",
    "\n",
    "get_mask_fpath(img_fpaths[0])"
   ]
  },
  {
   "cell_type": "code",
   "execution_count": 11,
   "id": "1283e1d6",
   "metadata": {},
   "outputs": [
    {
     "data": {
      "text/plain": [
       "{179: 0, 226: 1, 105: 2, 150: 3, 29: 4, 255: 5, 0: 6}"
      ]
     },
     "execution_count": 11,
     "metadata": {},
     "output_type": "execute_result"
    }
   ],
   "source": [
    "p2d"
   ]
  },
  {
   "cell_type": "code",
   "execution_count": 12,
   "id": "cec8e84a",
   "metadata": {},
   "outputs": [
    {
     "name": "stdout",
     "output_type": "stream",
     "text": [
      "[0 1 4 6]\n"
     ]
    }
   ],
   "source": [
    "def get_msk(fpath, p2d=p2d):\n",
    "    mask_fpath = get_mask_fpath(fpath)\n",
    "    mask_img = np.array(Image.open(mask_fpath).convert(\"L\"))\n",
    "    for ii in sorted(p2d.keys()): \n",
    "        # it's important that keys are sorted\n",
    "        # otherwise we might overwrite the values twice\n",
    "        mask_img[mask_img == ii] = p2d[ii]\n",
    "    return Image.fromarray(mask_img)\n",
    "\n",
    "msk = get_msk(img_fpaths[0])\n",
    "print(np.unique(msk))"
   ]
  },
  {
   "cell_type": "code",
   "execution_count": 13,
   "id": "ce484d30",
   "metadata": {},
   "outputs": [],
   "source": [
    "path_images = dir_path/'images'\n",
    "if not path_images.exists():\n",
    "    path_images.mkdir(exist_ok=True)\n",
    "    \n",
    "path_labels = dir_path/'labels'\n",
    "if not path_labels.exists():\n",
    "    path_labels.mkdir(exist_ok=True)"
   ]
  },
  {
   "cell_type": "code",
   "execution_count": 14,
   "id": "411f1a0c",
   "metadata": {},
   "outputs": [
    {
     "data": {
      "application/vnd.jupyter.widget-view+json": {
       "model_id": "5451f2f64f07465d9b328f7e48474592",
       "version_major": 2,
       "version_minor": 0
      },
      "text/plain": [
       "  0%|          | 0/803 [00:00<?, ?it/s]"
      ]
     },
     "metadata": {},
     "output_type": "display_data"
    }
   ],
   "source": [
    "for src_img_path in tqdm(img_fpaths):\n",
    "    msk = get_msk(src_img_path)\n",
    "    dst_img_fpath = path_images/src_img_path.name.replace('_sat', '')\n",
    "    dst_msk_fpath = path_labels/src_img_path.name.replace('_sat.jpg', '.png')\n",
    "    copyfile(src_img_path, dst_img_fpath)\n",
    "    msk.save(dst_msk_fpath)"
   ]
  },
  {
   "cell_type": "code",
   "execution_count": 15,
   "id": "adca6a0e",
   "metadata": {},
   "outputs": [],
   "source": [
    "new_img_fpaths = get_files(path_images)\n",
    "new_msk_fpaths = get_files(path_labels)\n",
    "assert len(new_img_fpaths) == len(img_fpaths)\n",
    "assert len(new_msk_fpaths) == len(img_fpaths)"
   ]
  },
  {
   "cell_type": "code",
   "execution_count": null,
   "id": "897d14e8",
   "metadata": {},
   "outputs": [],
   "source": []
  }
 ],
 "metadata": {
  "kernelspec": {
   "display_name": "Python (cv_fastai)",
   "language": "python",
   "name": "cv_fastai"
  },
  "language_info": {
   "codemirror_mode": {
    "name": "ipython",
    "version": 3
   },
   "file_extension": ".py",
   "mimetype": "text/x-python",
   "name": "python",
   "nbconvert_exporter": "python",
   "pygments_lexer": "ipython3",
   "version": "3.8.10"
  }
 },
 "nbformat": 4,
 "nbformat_minor": 5
}
