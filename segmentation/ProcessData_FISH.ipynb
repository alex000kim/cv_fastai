{
 "cells": [
  {
   "cell_type": "code",
   "execution_count": 1,
   "id": "356c557e",
   "metadata": {},
   "outputs": [],
   "source": [
    "import sys\n",
    "sys.path.append(\"..\")\n",
    "from utils.download_dataset import download_dataset, extract_zip"
   ]
  },
  {
   "cell_type": "code",
   "execution_count": 2,
   "id": "86bbab5d",
   "metadata": {},
   "outputs": [],
   "source": [
    "import numpy as np\n",
    "import PIL\n",
    "\n",
    "from fastai.vision.all import *\n",
    "from pathlib import Path\n",
    "from tqdm.auto import tqdm\n",
    "from shutil import copyfile, rmtree"
   ]
  },
  {
   "cell_type": "code",
   "execution_count": 3,
   "id": "28a91ae3",
   "metadata": {},
   "outputs": [
    {
     "name": "stdout",
     "output_type": "stream",
     "text": [
      "File exists: /home/ubuntu/github/cv_fastai/segmentation/data/FISH.zip\n"
     ]
    },
    {
     "data": {
      "text/plain": [
       "Path('/home/ubuntu/github/cv_fastai/segmentation/data/FISH.zip')"
      ]
     },
     "execution_count": 3,
     "metadata": {},
     "output_type": "execute_result"
    }
   ],
   "source": [
    "DATA_PATH = Path.cwd()/'data'\n",
    "if not DATA_PATH.exists():\n",
    "    DATA_PATH.mkdir(exist_ok=True)\n",
    "\n",
    "fpath = download_dataset(dataset_name='FISH', dest_dir=DATA_PATH)\n",
    "fpath"
   ]
  },
  {
   "cell_type": "code",
   "execution_count": 4,
   "id": "553aafd9",
   "metadata": {},
   "outputs": [
    {
     "name": "stdout",
     "output_type": "stream",
     "text": [
      "Directory exists: /home/ubuntu/github/cv_fastai/segmentation/data/FISH\n"
     ]
    },
    {
     "data": {
      "text/plain": [
       "Path('/home/ubuntu/github/cv_fastai/segmentation/data/FISH')"
      ]
     },
     "execution_count": 4,
     "metadata": {},
     "output_type": "execute_result"
    }
   ],
   "source": [
    "dir_path = extract_zip(fpath)\n",
    "dir_path"
   ]
  },
  {
   "cell_type": "code",
   "execution_count": 5,
   "id": "958ec0db",
   "metadata": {},
   "outputs": [
    {
     "data": {
      "text/plain": [
       "['Sea Bass',\n",
       " 'Trout',\n",
       " 'Hourse Mackerel',\n",
       " 'Shrimp',\n",
       " 'Red Mullet',\n",
       " 'Black Sea Sprat',\n",
       " 'Red Sea Bream',\n",
       " 'Striped Red Mullet',\n",
       " 'Gilt-Head Bream']"
      ]
     },
     "execution_count": 5,
     "metadata": {},
     "output_type": "execute_result"
    }
   ],
   "source": [
    "fish_classes = []\n",
    "for ii in (dir_path/'Fish_Dataset').ls():\n",
    "    if ii.is_dir():\n",
    "        fish_classes.append(ii.stem)\n",
    "fish_classes"
   ]
  },
  {
   "cell_type": "code",
   "execution_count": 6,
   "id": "0276b44a",
   "metadata": {},
   "outputs": [
    {
     "data": {
      "text/plain": [
       "9000"
      ]
     },
     "execution_count": 6,
     "metadata": {},
     "output_type": "execute_result"
    }
   ],
   "source": [
    "fish_paths = [get_files(dir_path/'Fish_Dataset'/c/c, extensions='.png') for c in fish_classes] \n",
    "img_fpaths = [img_path for fish_path in fish_paths for img_path in fish_path]\n",
    "len(img_fpaths)"
   ]
  },
  {
   "cell_type": "code",
   "execution_count": 7,
   "id": "6dc53e88",
   "metadata": {},
   "outputs": [
    {
     "name": "stdout",
     "output_type": "stream",
     "text": [
      "9000\n",
      "9000\n"
     ]
    }
   ],
   "source": [
    "msk_fpaths = [Path(str(img_path.parent) + ' GT')/img_path.name for img_path in img_fpaths]\n",
    "\n",
    "print(len(msk_fpaths))\n",
    "print(np.sum([ii.exists() for ii in msk_fpaths]))"
   ]
  },
  {
   "cell_type": "code",
   "execution_count": 14,
   "id": "b35363f7",
   "metadata": {},
   "outputs": [],
   "source": [
    "path_images = dir_path/'images'\n",
    "if not path_images.exists():\n",
    "    path_images.mkdir(exist_ok=True)\n",
    "    \n",
    "path_labels = dir_path/'labels'\n",
    "if not path_labels.exists():\n",
    "    path_labels.mkdir(exist_ok=True)"
   ]
  },
  {
   "cell_type": "code",
   "execution_count": 28,
   "id": "889d881f",
   "metadata": {},
   "outputs": [
    {
     "data": {
      "application/vnd.jupyter.widget-view+json": {
       "model_id": "d6a3d031fafb41b4a05ec1f4b80ebbaa",
       "version_major": 2,
       "version_minor": 0
      },
      "text/plain": [
       "0it [00:00, ?it/s]"
      ]
     },
     "metadata": {},
     "output_type": "display_data"
    }
   ],
   "source": [
    "for img_fpath, msk_fpath in tqdm(zip(img_fpaths, msk_fpaths)):\n",
    "    copyfile(img_fpath, path_images/f'{img_fpath.parent.stem}_{img_fpath.name}')\n",
    "    msk = Image.open(msk_fpath)\n",
    "    msk = np.array(msk).astype(np.uint8)\n",
    "    msk_img = Image.fromarray(msk)\n",
    "    msk_img.save(path_labels/f'{img_fpath.parent.stem}_{img_fpath.name}')\n",
    "    #copyfile(msk_fpath, path_labels/f'{img_fpath.parent.stem}_{img_fpath.name}')"
   ]
  },
  {
   "cell_type": "code",
   "execution_count": 29,
   "id": "41e9b3cb",
   "metadata": {},
   "outputs": [],
   "source": [
    "new_img_fpaths = get_files(path_images)\n",
    "new_msk_fpaths = get_files(path_labels)\n",
    "assert len(new_img_fpaths) == len(img_fpaths)\n",
    "assert len(new_msk_fpaths) == len(img_fpaths)"
   ]
  },
  {
   "cell_type": "code",
   "execution_count": null,
   "id": "757ad77b",
   "metadata": {},
   "outputs": [],
   "source": []
  }
 ],
 "metadata": {
  "kernelspec": {
   "display_name": "Python (cv_fastai)",
   "language": "python",
   "name": "cv_fastai"
  },
  "language_info": {
   "codemirror_mode": {
    "name": "ipython",
    "version": 3
   },
   "file_extension": ".py",
   "mimetype": "text/x-python",
   "name": "python",
   "nbconvert_exporter": "python",
   "pygments_lexer": "ipython3",
   "version": "3.8.10"
  }
 },
 "nbformat": 4,
 "nbformat_minor": 5
}
